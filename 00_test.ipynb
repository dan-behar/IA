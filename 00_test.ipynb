{
  "nbformat": 4,
  "nbformat_minor": 0,
  "metadata": {
    "colab": {
      "name": "00_test.ipynb",
      "provenance": []
    },
    "kernelspec": {
      "name": "python3",
      "display_name": "Python 3"
    },
    "language_info": {
      "name": "python"
    }
  },
  "cells": [
    {
      "cell_type": "code",
      "source": [
        "# Uncomment and run if on Colab or Kaggle\n",
        "# !git clone https://github.com/Francososa/UFM-AI-22.git\n",
        "# %cd UFM-AI-22\n",
        "# from install import *\n",
        "# install_requirements()"
      ],
      "metadata": {
        "id": "YloCHLyMiNst"
      },
      "execution_count": null,
      "outputs": []
    },
    {
      "cell_type": "code",
      "source": [
        "from utils import *\n",
        "setup_lecture()"
      ],
      "metadata": {
        "id": "tIPhzzXm-e8O"
      },
      "execution_count": null,
      "outputs": []
    },
    {
      "cell_type": "code",
      "source": [
        ""
      ],
      "metadata": {
        "id": "Q1rPrTaC-hWD"
      },
      "execution_count": null,
      "outputs": []
    }
  ]
}